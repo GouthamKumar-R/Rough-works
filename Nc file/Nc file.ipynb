{
 "cells": [
  {
   "cell_type": "markdown",
   "metadata": {
    "toc": true
   },
   "source": [
    "<h1>Table of Contents<span class=\"tocSkip\"></span></h1>\n",
    "<div class=\"toc\"><ul class=\"toc-item\"></ul></div>"
   ]
  },
  {
   "cell_type": "code",
   "execution_count": 1,
   "metadata": {
    "ExecuteTime": {
     "end_time": "2021-01-29T17:48:37.834935Z",
     "start_time": "2021-01-29T17:48:23.297885Z"
    }
   },
   "outputs": [
    {
     "name": "stdout",
     "output_type": "stream",
     "text": [
      "Collecting netCDF4\n",
      "  Downloading netCDF4-1.5.5.1-cp38-cp38-win_amd64.whl (3.1 MB)\n",
      "Requirement already satisfied: numpy>=1.9 in c:\\users\\goutham-rog\\anaconda3\\lib\\site-packages (from netCDF4) (1.18.5)\n",
      "Collecting cftime\n",
      "  Downloading cftime-1.3.1-cp38-cp38-win_amd64.whl (225 kB)\n",
      "Installing collected packages: cftime, netCDF4\n",
      "Successfully installed cftime-1.3.1 netCDF4-1.5.5.1\n"
     ]
    }
   ],
   "source": [
    "#! pip install netCDF4"
   ]
  },
  {
   "cell_type": "markdown",
   "metadata": {},
   "source": [
    "References:\n",
    "* https://joehamman.com/2013/10/12/plotting-netCDF-data-with-Python/"
   ]
  },
  {
   "cell_type": "code",
   "execution_count": 1,
   "metadata": {
    "ExecuteTime": {
     "end_time": "2021-01-30T03:05:40.261091Z",
     "start_time": "2021-01-30T03:05:40.186088Z"
    }
   },
   "outputs": [],
   "source": [
    "from netCDF4 import Dataset\n",
    "import numpy as np"
   ]
  },
  {
   "cell_type": "code",
   "execution_count": 2,
   "metadata": {
    "ExecuteTime": {
     "end_time": "2021-01-30T03:05:40.601325Z",
     "start_time": "2021-01-30T03:05:40.548454Z"
    }
   },
   "outputs": [],
   "source": [
    "#renamed the file\n",
    "file = 'AQUA_MODIS.20030101.nc'\n",
    "fh = Dataset(file, mode='r')"
   ]
  },
  {
   "cell_type": "code",
   "execution_count": 3,
   "metadata": {
    "ExecuteTime": {
     "end_time": "2021-01-30T03:05:41.149263Z",
     "start_time": "2021-01-30T03:05:41.106836Z"
    }
   },
   "outputs": [
    {
     "data": {
      "text/plain": [
       "<class 'netCDF4._netCDF4.Dataset'>\n",
       "root group (NETCDF4 data model, file format HDF5):\n",
       "    product_name: AQUA_MODIS.20030101_20030131.L3m.MO.SST.x_sst.nc\n",
       "    instrument: MODIS\n",
       "    title: MODISA Level-3 Equidistant Cylindrical Mapped Image\n",
       "    project: Ocean Biology Processing Group (NASA/GSFC/OBPG)\n",
       "    platform: Aqua\n",
       "    temporal_range: month\n",
       "    processing_version: Unspecified\n",
       "    date_created: 2020-05-16T11:09:42.000Z\n",
       "    history: l3mapgen par=AQUA_MODIS.20030101_20030131.L3m.MO.SST.x_sst.nc.param \n",
       "    l2_flag_names: LAND,HISOLZEN\n",
       "    time_coverage_start: 2003-01-01T00:50:01.000Z\n",
       "    time_coverage_end: 2003-02-01T02:14:59.000Z\n",
       "    start_orbit_number: 3521\n",
       "    end_orbit_number: 3973\n",
       "    map_projection: PlateCarree\n",
       "    latitude_units: degrees_north\n",
       "    longitude_units: degrees_east\n",
       "    northernmost_latitude: 35.0\n",
       "    southernmost_latitude: -45.0\n",
       "    westernmost_longitude: -30.0\n",
       "    easternmost_longitude: 30.0\n",
       "    geospatial_lat_max: 35.0\n",
       "    geospatial_lat_min: -45.0\n",
       "    geospatial_lon_max: 30.0\n",
       "    geospatial_lon_min: -30.0\n",
       "    latitude_step: 0.041666668\n",
       "    longitude_step: 0.041666668\n",
       "    sw_point_latitude: -44.979168\n",
       "    sw_point_longitude: -29.979166\n",
       "    spatialResolution: 4.64 km\n",
       "    geospatial_lon_resolution: 0.041666668\n",
       "    geospatial_lat_resolution: 0.041666668\n",
       "    geospatial_lat_units: degrees_north\n",
       "    geospatial_lon_units: degrees_east\n",
       "    number_of_lines: 1920\n",
       "    number_of_columns: 1440\n",
       "    measure: Mean\n",
       "    suggested_image_scaling_minimum: -2.0\n",
       "    suggested_image_scaling_maximum: 45.0\n",
       "    suggested_image_scaling_type: LINEAR\n",
       "    suggested_image_scaling_applied: No\n",
       "    _lastModified: 2020-05-16T11:09:42.000Z\n",
       "    Conventions: CF-1.6 ACDD-1.3\n",
       "    institution: NASA Goddard Space Flight Center, Ocean Ecology Laboratory, Ocean Biology Processing Group\n",
       "    standard_name_vocabulary: CF Standard Name Table v36\n",
       "    naming_authority: gov.nasa.gsfc.sci.oceandata\n",
       "    id: L3/AQUA_MODIS.20030101_20030131.L3b.MO.SST.x.nc\n",
       "    license: https://science.nasa.gov/earth-science/earth-science-data/data-information-policy/\n",
       "    creator_name: NASA/GSFC/OBPG\n",
       "    publisher_name: NASA/GSFC/OBPG\n",
       "    creator_email: data@oceancolor.gsfc.nasa.gov\n",
       "    publisher_email: data@oceancolor.gsfc.nasa.gov\n",
       "    creator_url: https://oceandata.sci.gsfc.nasa.gov\n",
       "    publisher_url: https://oceandata.sci.gsfc.nasa.gov\n",
       "    processing_level: L3 Mapped\n",
       "    cdm_data_type: grid\n",
       "    proj4_string: +proj=eqc +lat_ts=0 +lat_0=0 +x_0=0 +y_0=0 +ellps=WGS84 +datum=WGS84 +units=m +no_defs +lon_0=0.000000\n",
       "    data_bins: 1677885\n",
       "    data_minimum: 5.647857\n",
       "    data_maximum: 39.995\n",
       "    dimensions(sizes): lat(1920), lon(1440), rgb(3), eightbitcolor(256)\n",
       "    variables(dimensions): int16 sst(lat, lon), uint8 qual_sst(lat, lon), float32 lat(lat), float32 lon(lon), uint8 palette(rgb, eightbitcolor)\n",
       "    groups: processing_control"
      ]
     },
     "execution_count": 3,
     "metadata": {},
     "output_type": "execute_result"
    }
   ],
   "source": [
    "fh"
   ]
  },
  {
   "cell_type": "code",
   "execution_count": 4,
   "metadata": {
    "ExecuteTime": {
     "end_time": "2021-01-30T03:05:42.102277Z",
     "start_time": "2021-01-30T03:05:42.056931Z"
    }
   },
   "outputs": [
    {
     "data": {
      "text/plain": [
       "masked_array(data=[-29.979166, -29.9375  , -29.895834, ...,  29.895836,\n",
       "                    29.937502,  29.979168],\n",
       "             mask=False,\n",
       "       fill_value=1e+20,\n",
       "            dtype=float32)"
      ]
     },
     "execution_count": 4,
     "metadata": {},
     "output_type": "execute_result"
    }
   ],
   "source": [
    "#longitudes stored in np array\n",
    "lons = fh.variables[\"lon\"][:]\n",
    "lons"
   ]
  },
  {
   "cell_type": "code",
   "execution_count": 5,
   "metadata": {
    "ExecuteTime": {
     "end_time": "2021-01-30T03:05:52.458355Z",
     "start_time": "2021-01-30T03:05:52.437890Z"
    }
   },
   "outputs": [
    {
     "data": {
      "text/plain": [
       "1440"
      ]
     },
     "execution_count": 5,
     "metadata": {},
     "output_type": "execute_result"
    }
   ],
   "source": [
    "len(lons)"
   ]
  }
 ],
 "metadata": {
  "kernelspec": {
   "display_name": "Python 3",
   "language": "python",
   "name": "python3"
  },
  "language_info": {
   "codemirror_mode": {
    "name": "ipython",
    "version": 3
   },
   "file_extension": ".py",
   "mimetype": "text/x-python",
   "name": "python",
   "nbconvert_exporter": "python",
   "pygments_lexer": "ipython3",
   "version": "3.8.3"
  },
  "toc": {
   "base_numbering": 1,
   "nav_menu": {},
   "number_sections": true,
   "sideBar": true,
   "skip_h1_title": true,
   "title_cell": "Table of Contents",
   "title_sidebar": "Contents",
   "toc_cell": true,
   "toc_position": {},
   "toc_section_display": true,
   "toc_window_display": true
  }
 },
 "nbformat": 4,
 "nbformat_minor": 4
}
